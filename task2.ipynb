{
 "cells": [
  {
   "cell_type": "code",
   "execution_count": 4,
   "id": "44be9c81-c046-4dbb-9cec-48aaac622663",
   "metadata": {},
   "outputs": [
    {
     "name": "stdin",
     "output_type": "stream",
     "text": [
      "Enter a number:  1234\n"
     ]
    },
    {
     "name": "stdout",
     "output_type": "stream",
     "text": [
      "10\n"
     ]
    }
   ],
   "source": [
    "\n",
    "# sum of numbers\n",
    "def sum_of_digits(n):\n",
    "    return sum(int(digit) for digit in str(abs(n))) \n",
    "n = int(input(\"Enter a number: \"))\n",
    "print(sum_of_digits(n))"
   ]
  },
  {
   "cell_type": "code",
   "execution_count": 7,
   "id": "629f8a76-27eb-4f19-8fc1-70c0042c82c8",
   "metadata": {},
   "outputs": [
    {
     "name": "stdin",
     "output_type": "stream",
     "text": [
      "Enter a number:  97\n"
     ]
    },
    {
     "name": "stdout",
     "output_type": "stream",
     "text": [
      "True\n"
     ]
    }
   ],
   "source": [
    "\n",
    "# prime number\n",
    "import math\n",
    "def is_prime(n):\n",
    "    if n <= 1:\n",
    "        return False \n",
    "    if n == 2:\n",
    "        return True   \n",
    "    if n % 2 == 0:\n",
    "        return False  \n",
    "\n",
    "    for i in range(3, int(math.sqrt(n)) + 1, 2):  \n",
    "        if n % i == 0:\n",
    "            return False\n",
    "    return True\n",
    "n = int(input(\"Enter a number: \"))\n",
    "print(is_prime(n))"
   ]
  },
  {
   "cell_type": "code",
   "execution_count": 8,
   "id": "78de6407-f8c3-422b-94ea-5b967a5bfc8b",
   "metadata": {},
   "outputs": [
    {
     "name": "stdin",
     "output_type": "stream",
     "text": [
      "Enter first number:  15\n",
      "Enter second number:  42\n"
     ]
    },
    {
     "name": "stdout",
     "output_type": "stream",
     "text": [
      "GCD of 15 and 42 is 3\n",
      "LCM of 15 and 42 is 210\n"
     ]
    }
   ],
   "source": [
    "# GCD LCM\n",
    "import math\n",
    "def gcd_lcm(a, b):\n",
    "    gcd = math.gcd(a, b)\n",
    "    lcm = abs(a * b) // gcd  \n",
    "    return lcm, gcd\n",
    "a = int(input(\"Enter first number: \"))\n",
    "b = int(input(\"Enter second number: \"))\n",
    "lcm, gcd = gcd_lcm(a, b)\n",
    "print(f\"GCD of {a} and {b} is {gcd}\")\n",
    "print(f\"LCM of {a} and {b} is {lcm}\")"
   ]
  },
  {
   "cell_type": "code",
   "execution_count": 9,
   "id": "0c2e0a12-097f-4f47-a267-34402e459658",
   "metadata": {},
   "outputs": [
    {
     "name": "stdout",
     "output_type": "stream",
     "text": [
      "[10, 20, 30, 40, 50]\n"
     ]
    }
   ],
   "source": [
    "\n",
    "# Reverse\n",
    "def reverse_list(lst):\n",
    "    for i in range(len(lst) // 2):\n",
    "        lst[i], lst[-i - 1] = lst[-i - 1], lst[i]\n",
    "    return lst\n",
    "lst = [50, 40, 30, 20, 10]\n",
    "print(reverse_list(lst))"
   ]
  },
  {
   "cell_type": "code",
   "execution_count": 10,
   "id": "b4a13c47-dd96-4e5a-8602-e33c2f983566",
   "metadata": {},
   "outputs": [
    {
     "name": "stdout",
     "output_type": "stream",
     "text": [
      "[3, 17, 21, 30, 52, 95]\n"
     ]
    }
   ],
   "source": [
    "\n",
    "# sorting\n",
    "def sort_list(lst):\n",
    "    for i in range(len(lst)):\n",
    "        for j in range(i + 1, len(lst)):\n",
    "            if lst[i] > lst[j]:\n",
    "                lst[i], lst[j] = lst[j], lst[i]\n",
    "    return lst\n",
    "lst = [52, 95, 21, 17, 3, 30]\n",
    "print(sort_list(lst))"
   ]
  },
  {
   "cell_type": "code",
   "execution_count": 11,
   "id": "93d35fca-befd-4a94-bd65-2e1bb32c9ecb",
   "metadata": {},
   "outputs": [
    {
     "name": "stdout",
     "output_type": "stream",
     "text": [
      "Original list: [62, 35, 5, 60, 31, 3, 5]\n",
      "List after removing duplicates: [35, 3, 5, 60, 62, 31]\n"
     ]
    }
   ],
   "source": [
    "\n",
    "# Duplicates\n",
    "def remove_duplicates(input_list):\n",
    "    return list(set(input_list))\n",
    "if __name__ == \"__main__\":\n",
    "    sample_list = [62, 35, 5, 60, 31, 3, 5]\n",
    "    result = remove_duplicates(sample_list)\n",
    "    print(\"Original list:\", sample_list)\n",
    "    print(\"List after removing duplicates:\", result)"
   ]
  },
  {
   "cell_type": "code",
   "execution_count": 12,
   "id": "56f9b6d8-e287-4ec4-9c33-4701b3f3fbe0",
   "metadata": {},
   "outputs": [
    {
     "name": "stdout",
     "output_type": "stream",
     "text": [
      "String: 'Python Programming'\n",
      "Length: 18\n"
     ]
    }
   ],
   "source": [
    "\n",
    "# string Length\n",
    "def string_length(input_string):\n",
    "    \"\"\"Calculate the length of a string without using len().\"\"\"\n",
    "    count = 0\n",
    "    for char in input_string:\n",
    "        count += 1\n",
    "    return count\n",
    "if __name__ == \"__main__\":\n",
    "    test_string = \"Python Programming\"\n",
    "    result = string_length(test_string)\n",
    "    print(f\"String: '{test_string}'\")\n",
    "    print(f\"Length: {result}\")"
   ]
  },
  {
   "cell_type": "code",
   "execution_count": 13,
   "id": "de1a3c03-a3fa-4d56-9d7c-4602f7d7ea17",
   "metadata": {},
   "outputs": [
    {
     "name": "stdout",
     "output_type": "stream",
     "text": [
      "String: 'main flow services and technologies'\n",
      "Vowels: 12, Consonants: 19\n"
     ]
    }
   ],
   "source": [
    "# Vowel count\n",
    "def count_vowels_consonants(input_string):\n",
    "    \"\"\"Count vowels and consonants in a string.\"\"\"\n",
    "    vowels = {'a', 'e', 'i', 'o', 'u'}\n",
    "    vowel_count = 0\n",
    "    consonant_count = 0\n",
    "    \n",
    "    for char in input_string.lower():\n",
    "        if char in vowels:\n",
    "            vowel_count += 1\n",
    "        elif char.isalpha():  \n",
    "            consonant_count += 1\n",
    "    return vowel_count, consonant_count\n",
    "if __name__ == \"__main__\":\n",
    "    test_string = \"main flow services and technologies\"\n",
    "    vowels, consonants = count_vowels_consonants(test_string)\n",
    "    print(f\"String: '{test_string}'\")\n",
    "    print(f\"Vowels: {vowels}, Consonants: {consonants}\")"
   ]
  },
  {
   "cell_type": "code",
   "execution_count": 14,
   "id": "44a9bdee-0b1e-470d-87b9-42a1f7cf4354",
   "metadata": {},
   "outputs": [
    {
     "name": "stdout",
     "output_type": "stream",
     "text": [
      "Generated Maze:\n",
      "###############\n",
      "    #         #\n",
      "# # # ####### #\n",
      "# #     #   # #\n",
      "# ####### # # #\n",
      "# #   #   #   #\n",
      "# # # # ##### #\n",
      "#   # #   # # #\n",
      "##### ### # ###\n",
      "# #   # # #   #\n",
      "# # ### # ### #\n",
      "#   #   #     #\n",
      "# ### # #######\n",
      "#     #        \n",
      "###############\n",
      "\n",
      "Solved Maze:\n",
      "###############\n",
      "**  #         #\n",
      "#*# # ####### #\n",
      "#*#     #   # #\n",
      "#*####### # # #\n",
      "#*#***#   #   #\n",
      "#*#*#*# ##### #\n",
      "#***#*#   # # #\n",
      "#####*### # ###\n",
      "# #***# # #   #\n",
      "# #*### # ### #\n",
      "#***#***#     #\n",
      "#*###*#*#######\n",
      "#*****#********\n",
      "###############\n"
     ]
    }
   ],
   "source": [
    "# maze\n",
    "import random\n",
    "from collections import deque\n",
    "\n",
    "class Maze:\n",
    "    def __init__(self, width=21, height=21):\n",
    "        self.width = width if width % 2 else width + 1\n",
    "        self.height = height if height % 2 else height + 1\n",
    "        self.grid = [[1 for _ in range(self.width)] for _ in range(self.height)]\n",
    "        self.solution = []\n",
    "\n",
    "    def generate(self):\n",
    "        stack = [(random.randrange(1, self.height, 2), random.randrange(1, self.width, 2))]\n",
    "        while stack:\n",
    "            x, y = stack[-1]\n",
    "            self.grid[x][y] = 0\n",
    "            neighbors = []\n",
    "            for dx, dy in [(0, 2), (2, 0), (0, -2), (-2, 0)]:\n",
    "                nx, ny = x + dx, y + dy\n",
    "                if 0 < nx < self.height and 0 < ny < self.width and self.grid[nx][ny] == 1:\n",
    "                    neighbors.append((nx, ny))\n",
    "            if neighbors:\n",
    "                nx, ny = random.choice(neighbors)\n",
    "                self.grid[x + (nx - x)//2][y + (ny - y)//2] = 0\n",
    "                stack.append((nx, ny))\n",
    "            else:\n",
    "                stack.pop()\n",
    "        self.grid[1][0] = 0\n",
    "        self.grid[self.height-2][self.width-1] = 0\n",
    "\n",
    "    def solve(self):\n",
    "        start = (1, 0)\n",
    "        end = (self.height-2, self.width-1)\n",
    "        queue = deque([(start, [start])])\n",
    "        visited = set([start])\n",
    "        while queue:\n",
    "            (x, y), path = queue.popleft()\n",
    "            if (x, y) == end:\n",
    "                self.solution = path\n",
    "                return True\n",
    "            for dx, dy in [(0, 1), (1, 0), (0, -1), (-1, 0)]:\n",
    "                nx, ny = x + dx, y + dy\n",
    "                if 0 <= nx < self.height and 0 <= ny < self.width and self.grid[nx][ny] == 0 and (nx, ny) not in visited:\n",
    "                     visited.add((nx, ny))\n",
    "                     queue.append(((nx, ny), path + [(nx, ny)]))\n",
    "        return False\n",
    "\n",
    "    def display(self, show_solution=False):\n",
    "        for i in range(self.height):\n",
    "            for j in range(self.width):\n",
    "                if show_solution and (i, j) in self.solution:\n",
    "                    print('*', end='')\n",
    "                elif self.grid[i][j] == 1:\n",
    "                    print('#', end='')\n",
    "                else:\n",
    "                    print(' ', end='')\n",
    "            print()\n",
    "\n",
    "if __name__ == \"__main__\":\n",
    "    maze = Maze(15, 15)\n",
    "    maze.generate()\n",
    "    print(\"Generated Maze:\")\n",
    "    maze.display()\n",
    "    \n",
    "    if maze.solve():\n",
    "        print(\"\\nSolved Maze:\")\n",
    "        maze.display(show_solution=True)\n",
    "    else:\n",
    "        print(\"\\nNo solution exists!\")"
   ]
  },
  {
   "cell_type": "code",
   "execution_count": null,
   "id": "cd333e1a-19f5-4b3f-8724-88a420b6d929",
   "metadata": {},
   "outputs": [],
   "source": []
  }
 ],
 "metadata": {
  "kernelspec": {
   "display_name": "Python 3 (ipykernel)",
   "language": "python",
   "name": "python3"
  },
  "language_info": {
   "codemirror_mode": {
    "name": "ipython",
    "version": 3
   },
   "file_extension": ".py",
   "mimetype": "text/x-python",
   "name": "python",
   "nbconvert_exporter": "python",
   "pygments_lexer": "ipython3",
   "version": "3.13.3"
  }
 },
 "nbformat": 4,
 "nbformat_minor": 5
}
