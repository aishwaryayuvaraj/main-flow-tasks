{
 "cells": [
  {
   "cell_type": "code",
   "execution_count": 1,
   "id": "66c210bd-1e98-45fc-bcee-8c7e78072147",
   "metadata": {},
   "outputs": [
    {
     "name": "stdout",
     "output_type": "stream",
     "text": [
      "Serialized: 1,2,#,#,3,4,#,#,5,#,#\n",
      "Deserialized Root: 1\n"
     ]
    }
   ],
   "source": [
    "class TreeNode:\n",
    "    def __init__(self, val=0, left=None, right=None):\n",
    "        self.val = val\n",
    "        self.left = left\n",
    "        self.right = right\n",
    "\n",
    "class Codec:\n",
    "    def serialize(self, root):\n",
    "        def preorder(node):\n",
    "            if not node:\n",
    "                return ['#']\n",
    "            return [str(node.val)] + preorder(node.left) + preorder(node.right)\n",
    "        return ','.join(preorder(root))\n",
    "\n",
    "    def deserialize(self, data):\n",
    "        def build(nodes):\n",
    "            val = next(nodes)\n",
    "            if val == '#':\n",
    "                return None\n",
    "            node = TreeNode(int(val))\n",
    "            node.left = build(nodes)\n",
    "            node.right = build(nodes)\n",
    "            return node\n",
    "        return build(iter(data.split(',')))\n",
    "\n",
    "codec = Codec()\n",
    "root = TreeNode(1, TreeNode(2), TreeNode(3, TreeNode(4), TreeNode(5)))\n",
    "\n",
    "serialized = codec.serialize(root)\n",
    "print(\"Serialized:\", serialized)\n",
    "\n",
    "deserialized = codec.deserialize(serialized)\n",
    "print(\"Deserialized Root:\", deserialized.val) "
   ]
  },
  {
   "cell_type": "code",
   "execution_count": 2,
   "id": "a277dce3-d65a-4971-b3a8-44b48826df3a",
   "metadata": {},
   "outputs": [
    {
     "name": "stdout",
     "output_type": "stream",
     "text": [
      "Maximum Flow: 23\n"
     ]
    }
   ],
   "source": [
    "from collections import deque\n",
    "\n",
    "def bfs(rGraph, s, t, parent):\n",
    "    visited = [False] * len(rGraph)\n",
    "    queue = deque([s])\n",
    "    visited[s] = True\n",
    "    while queue:\n",
    "        u = queue.popleft()\n",
    "        for v, capacity in enumerate(rGraph[u]):\n",
    "            if not visited[v] and capacity > 0:\n",
    "                queue.append(v)\n",
    "                visited[v] = True\n",
    "                parent[v] = u\n",
    "    return visited[t]\n",
    "\n",
    "def ford_fulkerson(graph, source, sink):\n",
    "    rGraph = [row[:] for row in graph]\n",
    "    parent = [-1] * len(graph)\n",
    "    max_flow = 0\n",
    "    while bfs(rGraph, source, sink, parent):\n",
    "        path_flow = float('inf')\n",
    "        v = sink\n",
    "        while v != source:\n",
    "            u = parent[v]\n",
    "            path_flow = min(path_flow, rGraph[u][v])\n",
    "            v = parent[v]\n",
    "        max_flow += path_flow\n",
    "        v = sink\n",
    "        while v != source:\n",
    "            u = parent[v]\n",
    "            rGraph[u][v] -= path_flow\n",
    "            rGraph[v][u] += path_flow\n",
    "            v = parent[v]\n",
    "    return max_flow\n",
    "\n",
    "graph = [[0, 16, 13, 0, 0, 0],\n",
    "         [0, 0, 10, 12, 0, 0],\n",
    "         [0, 4, 0, 0, 14, 0],\n",
    "         [0, 0, 9, 0, 0, 20],\n",
    "         [0, 0, 0, 7, 0, 4],\n",
    "         [0, 0, 0, 0, 0, 0]]\n",
    "\n",
    "print(\"Maximum Flow:\", ford_fulkerson(graph, 0, 5)) "
   ]
  },
  {
   "cell_type": "code",
   "execution_count": 3,
   "id": "22bc3098-9b29-4d17-b4c4-9a489dd962dc",
   "metadata": {},
   "outputs": [
    {
     "name": "stdout",
     "output_type": "stream",
     "text": [
      "Edit Distance: 3\n"
     ]
    }
   ],
   "source": [
    "def edit_distance(s1, s2):\n",
    "    m, n = len(s1), len(s2)\n",
    "    dp = [[0]*(n+1) for _ in range(m+1)]\n",
    "\n",
    "    for i in range(m+1):\n",
    "        for j in range(n+1):\n",
    "            if i == 0:\n",
    "                dp[i][j] = j\n",
    "            elif j == 0:\n",
    "                dp[i][j] = i\n",
    "            elif s1[i-1] == s2[j-1]:\n",
    "                dp[i][j] = dp[i-1][j-1]\n",
    "            else:\n",
    "                dp[i][j] = 1 + min(dp[i-1][j], dp[i][j-1], dp[i-1][j-1])\n",
    "    return dp[m][n]\n",
    "\n",
    "s1 = \"kitten\"\n",
    "s2 = \"sitting\"\n",
    "print(\"Edit Distance:\", edit_distance(s1, s2)) "
   ]
  },
  {
   "cell_type": "code",
   "execution_count": 4,
   "id": "a9d9a048-da55-4d34-a595-b30f7dd24f47",
   "metadata": {},
   "outputs": [
    {
     "name": "stdout",
     "output_type": "stream",
     "text": [
      "K-th Smallest: 4\n"
     ]
    }
   ],
   "source": [
    "class TreeNode:\n",
    "    def __init__(self, val=0, left=None, right=None):\n",
    "        self.val = val\n",
    "        self.left = left\n",
    "        self.right = right\n",
    "\n",
    "def kth_smallest(root, k):\n",
    "    def inorder(node):\n",
    "        if not node:\n",
    "            return []\n",
    "        return inorder(node.left) + [node.val] + inorder(node.right)\n",
    "    \n",
    "    return inorder(root)[k-1]\n",
    "\n",
    "root = TreeNode(5)\n",
    "root.left = TreeNode(3, TreeNode(2), TreeNode(4))\n",
    "root.right = TreeNode(6)\n",
    "\n",
    "k = 3\n",
    "print(\"K-th Smallest:\", kth_smallest(root, k)) "
   ]
  },
  {
   "cell_type": "code",
   "execution_count": 5,
   "id": "89835144-9077-4c22-b11b-8cc4f99fc677",
   "metadata": {},
   "outputs": [
    {
     "name": "stdout",
     "output_type": "stream",
     "text": [
      "Max Subarray Product: 6\n"
     ]
    }
   ],
   "source": [
    "def max_product(nums):\n",
    "    if not nums:\n",
    "        return 0\n",
    "\n",
    "    max_prod = min_prod = result = nums[0]\n",
    "    for num in nums[1:]:\n",
    "        if num < 0:\n",
    "            max_prod, min_prod = min_prod, max_prod\n",
    "        max_prod = max(num, max_prod * num)\n",
    "        min_prod = min(num, min_prod * num)\n",
    "        result = max(result, max_prod)\n",
    "    return result\n",
    "\n",
    "nums = [2, 3, -2, 4]\n",
    "print(\"Max Subarray Product:\", max_product(nums)) "
   ]
  },
  {
   "cell_type": "code",
   "execution_count": 6,
   "id": "6fc0fb1a-cd2f-4b50-893d-727e234c9dda",
   "metadata": {},
   "outputs": [
    {
     "name": "stdout",
     "output_type": "stream",
     "text": [
      "All Paths: [['A', 'B', 'C', 'D'], ['A', 'B', 'D'], ['A', 'C', 'D']]\n"
     ]
    }
   ],
   "source": [
    "def find_all_paths(graph, start, end, path=[]):\n",
    "    path = path + [start]\n",
    "    if start == end:\n",
    "        return [path]\n",
    "    if start not in graph:\n",
    "        return []\n",
    "    paths = []\n",
    "    for node in graph[start]:\n",
    "        if node not in path:\n",
    "            newpaths = find_all_paths(graph, node, end, path)\n",
    "            for p in newpaths:\n",
    "                paths.append(p)\n",
    "    return paths\n",
    "\n",
    "graph = {\n",
    "    'A': ['B', 'C'],\n",
    "    'B': ['C', 'D'],\n",
    "    'C': ['D'],\n",
    "    'D': []\n",
    "}\n",
    "start = 'A'\n",
    "end = 'D'\n",
    "print(\"All Paths:\", find_all_paths(graph, start, end))\n"
   ]
  },
  {
   "cell_type": "code",
   "execution_count": null,
   "id": "4f60a13b-15fa-4b94-a73a-75933068c991",
   "metadata": {},
   "outputs": [],
   "source": []
  }
 ],
 "metadata": {
  "kernelspec": {
   "display_name": "Python 3 (ipykernel)",
   "language": "python",
   "name": "python3"
  },
  "language_info": {
   "codemirror_mode": {
    "name": "ipython",
    "version": 3
   },
   "file_extension": ".py",
   "mimetype": "text/x-python",
   "name": "python",
   "nbconvert_exporter": "python",
   "pygments_lexer": "ipython3",
   "version": "3.10.7"
  }
 },
 "nbformat": 4,
 "nbformat_minor": 5
}
