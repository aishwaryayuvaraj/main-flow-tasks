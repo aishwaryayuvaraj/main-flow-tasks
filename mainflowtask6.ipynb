{
 "cells": [
  {
   "cell_type": "code",
   "execution_count": 1,
   "id": "a6d75c36-3f4a-4814-8d7f-fafb25094a92",
   "metadata": {},
   "outputs": [
    {
     "name": "stdout",
     "output_type": "stream",
     "text": [
      "True\n"
     ]
    }
   ],
   "source": [
    "def is_valid_sudoku(board):\n",
    "    for row in board:\n",
    "        seen = set()\n",
    "        for num in row:\n",
    "            if num != 0 and num in seen:\n",
    "                return False\n",
    "            seen.add(num)\n",
    "    \n",
    "    for col in range(9):\n",
    "        seen = set()\n",
    "        for row in range(9):\n",
    "            num = board[row][col]\n",
    "            if num != 0 and num in seen:\n",
    "                return False\n",
    "            seen.add(num)\n",
    "    \n",
    "    for box_row in range(0, 9, 3):\n",
    "        for box_col in range(0, 9, 3):\n",
    "            seen = set()\n",
    "            for row in range(box_row, box_row + 3):\n",
    "                for col in range(box_col, box_col + 3):\n",
    "                    num = board[row][col]\n",
    "                    if num != 0 and num in seen:\n",
    "                        return False\n",
    "                    seen.add(num)\n",
    "    \n",
    "    return True\n",
    "\n",
    "board = [\n",
    "    [5, 3, 0, 0, 7, 0, 0, 0, 0],\n",
    "    [6, 0, 0, 1, 9, 5, 0, 0, 0],\n",
    "    [0, 9, 8, 0, 0, 0, 0, 6, 0],\n",
    "    [8, 0, 0, 0, 6, 0, 0, 0, 3],\n",
    "    [4, 0, 0, 8, 0, 3, 0, 0, 1],\n",
    "    [7, 0, 0, 0, 2, 0, 0, 0, 6],\n",
    "    [0, 6, 0, 0, 0, 0, 2, 8, 0],\n",
    "    [0, 0, 0, 4, 1, 9, 0, 0, 5],\n",
    "    [0, 0, 0, 0, 8, 0, 0, 7, 9]\n",
    "]\n",
    "\n",
    "print(is_valid_sudoku(board)) "
   ]
  },
  {
   "cell_type": "code",
   "execution_count": 2,
   "id": "c1ae5bcb-e856-4d92-94df-7a23459a5597",
   "metadata": {},
   "outputs": [
    {
     "name": "stdout",
     "output_type": "stream",
     "text": [
      "{'mainflow': 2, 'technologies': 1, 'internship': 1}\n"
     ]
    }
   ],
   "source": [
    "def word_frequency(text):\n",
    "    words = text.split()\n",
    "    freq = {}\n",
    "    for word in words:\n",
    "        freq[word] = freq.get(word, 0) + 1\n",
    "    return freq\n",
    "\n",
    "text = \"mainflow technologies mainflow internship \"\n",
    "print(word_frequency(text)) "
   ]
  },
  {
   "cell_type": "code",
   "execution_count": 3,
   "id": "5b2e0007-f9c7-4167-abeb-a1a52f4eddf8",
   "metadata": {},
   "outputs": [
    {
     "name": "stdout",
     "output_type": "stream",
     "text": [
      "55\n"
     ]
    }
   ],
   "source": [
    "def knapsack(weights, values, capacity):\n",
    "    n = len(weights)\n",
    "    dp = [[0] * (capacity + 1) for _ in range(n + 1)]\n",
    "    \n",
    "    for i in range(1, n + 1):\n",
    "        for w in range(1, capacity + 1):\n",
    "            if weights[i-1] <= w:\n",
    "                dp[i][w] = max(values[i-1] + dp[i-1][w - weights[i-1]], dp[i-1][w])\n",
    "            else:\n",
    "                dp[i][w] = dp[i-1][w]\n",
    "    \n",
    "    return dp[n][capacity]\n",
    "\n",
    "weights = [1, 2, 3]\n",
    "values = [10, 15, 40]\n",
    "capacity = 5\n",
    "print(knapsack(weights, values, capacity)) "
   ]
  },
  {
   "cell_type": "code",
   "execution_count": 4,
   "id": "533436a4-71c1-4889-9585-cf63735057d9",
   "metadata": {},
   "outputs": [
    {
     "name": "stdout",
     "output_type": "stream",
     "text": [
      "[[1, 6], [8, 10], [15, 18]]\n"
     ]
    }
   ],
   "source": [
    "def merge_intervals(intervals):\n",
    "    if not intervals:\n",
    "        return []\n",
    "    \n",
    "    intervals.sort(key=lambda x: x[0])\n",
    "    merged = [intervals[0]]\n",
    "    \n",
    "    for current in intervals[1:]:\n",
    "        last = merged[-1]\n",
    "        if current[0] <= last[1]:\n",
    "            last[1] = max(last[1], current[1])\n",
    "        else:\n",
    "            merged.append(current)\n",
    "    \n",
    "    return merged\n",
    "\n",
    "intervals = [[1, 3], [2, 6], [8, 10], [15, 18]]\n",
    "print(merge_intervals(intervals)) "
   ]
  },
  {
   "cell_type": "code",
   "execution_count": 5,
   "id": "2b20e1f7-e0df-41bb-80b4-ce5a6866d88d",
   "metadata": {},
   "outputs": [
    {
     "name": "stdout",
     "output_type": "stream",
     "text": [
      "2\n"
     ]
    }
   ],
   "source": [
    "def find_median_sorted_arrays(nums1, nums2):\n",
    "    merged = nums1 + nums2\n",
    "    merged.sort()\n",
    "    n = len(merged)\n",
    "    if n % 2 == 1:\n",
    "        return merged[n // 2]\n",
    "    else:\n",
    "        return (merged[n // 2 - 1] + merged[n // 2]) / 2\n",
    "\n",
    "nums1 = [1, 3]\n",
    "nums2 = [2]\n",
    "print(find_median_sorted_arrays(nums1, nums2)) "
   ]
  },
  {
   "cell_type": "code",
   "execution_count": 6,
   "id": "ac62ab8d-2c6e-451e-a8af-8901439c9ebe",
   "metadata": {},
   "outputs": [
    {
     "name": "stdout",
     "output_type": "stream",
     "text": [
      "6\n"
     ]
    }
   ],
   "source": [
    "def maximal_rectangle(matrix):\n",
    "    if not matrix:\n",
    "        return 0\n",
    "    \n",
    "    rows, cols = len(matrix), len(matrix[0])\n",
    "    heights = [0] * cols\n",
    "    max_area = 0\n",
    "    \n",
    "    for row in matrix:\n",
    "        for i in range(cols):\n",
    "            heights[i] = heights[i] + 1 if row[i] == '1' else 0\n",
    "        \n",
    "        stack = []\n",
    "        for i, h in enumerate(heights + [0]):\n",
    "            while stack and heights[stack[-1]] > h:\n",
    "                height = heights[stack.pop()]\n",
    "                width = i if not stack else i - stack[-1] - 1\n",
    "                max_area = max(max_area, height * width)\n",
    "            stack.append(i)\n",
    "    \n",
    "    return max_area\n",
    "\n",
    "matrix = [\n",
    "    [\"1\", \"0\", \"1\", \"0\", \"0\"],\n",
    "    [\"1\", \"0\", \"1\", \"1\", \"1\"],\n",
    "    [\"1\", \"1\", \"1\", \"1\", \"1\"],\n",
    "    [\"1\", \"0\", \"0\", \"1\", \"0\"]\n",
    "]\n",
    "print(maximal_rectangle(matrix)) "
   ]
  },
  {
   "cell_type": "code",
   "execution_count": 7,
   "id": "82a3b831-6038-4281-806c-49d389c281b8",
   "metadata": {},
   "outputs": [
    {
     "name": "stdout",
     "output_type": "stream",
     "text": [
      "6\n"
     ]
    }
   ],
   "source": [
    "def max_subarray_sum(nums):\n",
    "    max_current = max_global = nums[0]\n",
    "    for num in nums[1:]:\n",
    "        max_current = max(num, max_current + num)\n",
    "        max_global = max(max_global, max_current)\n",
    "    return max_global\n",
    "\n",
    "nums = [-2, 1, -3, 4, -1, 2, 1, -5, 4]\n",
    "print(max_subarray_sum(nums))  "
   ]
  },
  {
   "cell_type": "code",
   "execution_count": null,
   "id": "37bcbaf6-c591-4139-b180-4a6d7ed0951d",
   "metadata": {},
   "outputs": [],
   "source": []
  }
 ],
 "metadata": {
  "kernelspec": {
   "display_name": "Python 3 (ipykernel)",
   "language": "python",
   "name": "python3"
  },
  "language_info": {
   "codemirror_mode": {
    "name": "ipython",
    "version": 3
   },
   "file_extension": ".py",
   "mimetype": "text/x-python",
   "name": "python",
   "nbconvert_exporter": "python",
   "pygments_lexer": "ipython3",
   "version": "3.10.7"
  }
 },
 "nbformat": 4,
 "nbformat_minor": 5
}
