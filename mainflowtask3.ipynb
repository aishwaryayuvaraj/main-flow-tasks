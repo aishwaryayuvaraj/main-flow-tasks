{
 "cells": [
  {
   "cell_type": "code",
   "execution_count": 1,
   "id": "14e5729f-d9ab-4b50-b916-6039d881aa71",
   "metadata": {},
   "outputs": [
    {
     "name": "stdout",
     "output_type": "stream",
     "text": [
      "7 x 1 = 7\n",
      "7 x 2 = 14\n",
      "7 x 3 = 21\n",
      "7 x 4 = 28\n",
      "7 x 5 = 35\n",
      "7 x 6 = 42\n",
      "7 x 7 = 49\n",
      "7 x 8 = 56\n",
      "7 x 9 = 63\n",
      "7 x 10 = 70\n"
     ]
    }
   ],
   "source": [
    "def print_table(m):\n",
    "    for i in range(1, 11):\n",
    "        print(f\"{m} x {i} = {m * i}\")\n",
    "\n",
    "print_table(7)"
   ]
  },
  {
   "cell_type": "code",
   "execution_count": 2,
   "id": "a0232d65-cde9-4611-b2fb-f7bd60bc66e8",
   "metadata": {},
   "outputs": [
    {
     "name": "stdout",
     "output_type": "stream",
     "text": [
      "Swapped: a = 8, b = 5\n"
     ]
    }
   ],
   "source": [
    "def swap_numbers(a, b):\n",
    "    a = a + b\n",
    "    b = a - b\n",
    "    a = a - b\n",
    "    return a, b\n",
    "    \n",
    "a, b = 5, 8\n",
    "a, b = swap_numbers(a, b)\n",
    "print(f\"Swapped: a = {a}, b = {b}\")"
   ]
  },
  {
   "cell_type": "code",
   "execution_count": 3,
   "id": "a37c3c68-4aaa-43d9-ac0c-b4e4f3157c7c",
   "metadata": {},
   "outputs": [
    {
     "name": "stdout",
     "output_type": "stream",
     "text": [
      "True\n"
     ]
    }
   ],
   "source": [
    "def is_substring(s1, s2):\n",
    "    return s2 in s1 \n",
    "\n",
    "s1 = \"main flow technologies\"\n",
    "s2 = \"flow\"\n",
    "print(is_substring(s1, s2))"
   ]
  },
  {
   "cell_type": "code",
   "execution_count": 5,
   "id": "3afddbc9-4416-47d5-86fd-66fb6a27e126",
   "metadata": {},
   "outputs": [
    {
     "name": "stdout",
     "output_type": "stream",
     "text": [
      "1100\n"
     ]
    }
   ],
   "source": [
    "def decimal_to_binary(n):\n",
    "    return bin(n)[2:] \n",
    "\n",
    "print(decimal_to_binary(12))"
   ]
  },
  {
   "cell_type": "code",
   "execution_count": 6,
   "id": "434d0e80-b077-41f3-8383-afa862d37c09",
   "metadata": {},
   "outputs": [
    {
     "name": "stdout",
     "output_type": "stream",
     "text": [
      "[[6, 8], [10, 12]]\n"
     ]
    }
   ],
   "source": [
    "def matrix_addition(A, B):\n",
    "    return [\n",
    "        [A[i][j] + B[i][j] for j in range(len(A[0]))]\n",
    "        for i in range(len(A))\n",
    "    ]\n",
    "\n",
    "A = [[1, 2], [3, 4]]\n",
    "B = [[5, 6], [7, 8]]\n",
    "print(matrix_addition(A, B))"
   ]
  },
  {
   "cell_type": "code",
   "execution_count": 7,
   "id": "e7ab2388-7527-4695-8209-81befda828b8",
   "metadata": {},
   "outputs": [
    {
     "name": "stdout",
     "output_type": "stream",
     "text": [
      "[[19, 22], [43, 50]]\n"
     ]
    }
   ],
   "source": [
    "def matrix_multiply(A, B):\n",
    "    return [\n",
    "        [\n",
    "            sum(A[i][k] * B[k][j] for k in range(len(B)))\n",
    "            for j in range(len(B[0]))\n",
    "        ]\n",
    "        for i in range(len(A))\n",
    "    ]\n",
    "\n",
    "A = [[1, 2], [3, 4]]\n",
    "B = [[5, 6], [7, 8]]\n",
    "print(matrix_multiply(A, B))"
   ]
  },
  {
   "cell_type": "code",
   "execution_count": 8,
   "id": "952150bf-b86c-4f78-9d92-0e1b11fe6284",
   "metadata": {},
   "outputs": [
    {
     "name": "stdout",
     "output_type": "stream",
     "text": [
      "45\n"
     ]
    }
   ],
   "source": [
    "def second_largest(lst):\n",
    "    unique = list(set(lst)) \n",
    "    unique.sort()\n",
    "    return unique[-2] if len(unique) >= 2 else None\n",
    "\n",
    "lst = [10, 20, 4, 45, 99]\n",
    "print(second_largest(lst))"
   ]
  },
  {
   "cell_type": "code",
   "execution_count": 9,
   "id": "f206849d-f30f-4058-ba77-0cd7a1632624",
   "metadata": {},
   "outputs": [
    {
     "name": "stdout",
     "output_type": "stream",
     "text": [
      "True\n"
     ]
    }
   ],
   "source": [
    "def is_anagram(s1, s2):\n",
    "    return sorted(s1.lower()) == sorted(s2.lower())\n",
    "\n",
    "s1 = \"deal\"\n",
    "s2 = \"lead\"\n",
    "print(is_anagram(s1, s2))"
   ]
  },
  {
   "cell_type": "code",
   "execution_count": 1,
   "id": "861dbcb1-91fb-4b7d-af5b-860fa1c24e56",
   "metadata": {},
   "outputs": [
    {
     "name": "stdout",
     "output_type": "stream",
     "text": [
      "  |   |  \n",
      "---------\n",
      "  |   |  \n",
      "---------\n",
      "  |   |  \n",
      "---------\n"
     ]
    },
    {
     "name": "stdin",
     "output_type": "stream",
     "text": [
      "Enter row and column (0-2):  2 2\n"
     ]
    },
    {
     "name": "stdout",
     "output_type": "stream",
     "text": [
      "  |   |  \n",
      "---------\n",
      "  |   |  \n",
      "---------\n",
      "  |   | X\n",
      "---------\n",
      "AI plays at (1, 1)\n",
      "  |   |  \n",
      "---------\n",
      "  | O |  \n",
      "---------\n",
      "  |   | X\n",
      "---------\n"
     ]
    },
    {
     "name": "stdin",
     "output_type": "stream",
     "text": [
      "Enter row and column (0-2):  2 0\n"
     ]
    },
    {
     "name": "stdout",
     "output_type": "stream",
     "text": [
      "  |   |  \n",
      "---------\n",
      "  | O |  \n",
      "---------\n",
      "X |   | X\n",
      "---------\n",
      "AI plays at (2, 1)\n",
      "  |   |  \n",
      "---------\n",
      "  | O |  \n",
      "---------\n",
      "X | O | X\n",
      "---------\n"
     ]
    },
    {
     "name": "stdin",
     "output_type": "stream",
     "text": [
      "Enter row and column (0-2):  0 1\n"
     ]
    },
    {
     "name": "stdout",
     "output_type": "stream",
     "text": [
      "  | X |  \n",
      "---------\n",
      "  | O |  \n",
      "---------\n",
      "X | O | X\n",
      "---------\n",
      "AI plays at (0, 0)\n",
      "O | X |  \n",
      "---------\n",
      "  | O |  \n",
      "---------\n",
      "X | O | X\n",
      "---------\n"
     ]
    },
    {
     "name": "stdin",
     "output_type": "stream",
     "text": [
      "Enter row and column (0-2):  0 2\n"
     ]
    },
    {
     "name": "stdout",
     "output_type": "stream",
     "text": [
      "O | X | X\n",
      "---------\n",
      "  | O |  \n",
      "---------\n",
      "X | O | X\n",
      "---------\n",
      "AI plays at (1, 2)\n",
      "O | X | X\n",
      "---------\n",
      "  | O | O\n",
      "---------\n",
      "X | O | X\n",
      "---------\n"
     ]
    },
    {
     "name": "stdin",
     "output_type": "stream",
     "text": [
      "Enter row and column (0-2):  1 0\n"
     ]
    },
    {
     "name": "stdout",
     "output_type": "stream",
     "text": [
      "O | X | X\n",
      "---------\n",
      "X | O | O\n",
      "---------\n",
      "X | O | X\n",
      "---------\n",
      "Draw!\n"
     ]
    }
   ],
   "source": [
    "def print_board(board):\n",
    "    for row in board:\n",
    "        print(\" | \".join(row))\n",
    "        print(\"-\" * 9)\n",
    "\n",
    "def check_winner(board):\n",
    "    # Check rows, columns, and diagonals\n",
    "    lines = [\n",
    "        [board[0][0], board[0][1], board[0][2]],\n",
    "        [board[1][0], board[1][1], board[1][2]],\n",
    "        [board[2][0], board[2][1], board[2][2]],\n",
    "        [board[0][0], board[1][0], board[2][0]],\n",
    "        [board[0][1], board[1][1], board[2][1]],\n",
    "        [board[0][2], board[1][2], board[2][2]],\n",
    "        [board[0][0], board[1][1], board[2][2]],\n",
    "        [board[0][2], board[1][1], board[2][0]],\n",
    "    ]\n",
    "    for line in lines:\n",
    "        if len(set(line)) == 1 and line[0] != \" \":\n",
    "            return line[0]\n",
    "    return None\n",
    "\n",
    "def minimax(board, depth, is_maximizing):\n",
    "    winner = check_winner(board)\n",
    "    if winner == \"X\":\n",
    "        return -10 + depth\n",
    "    elif winner == \"O\":\n",
    "        return 10 - depth\n",
    "    elif \" \" not in [cell for row in board for cell in row]:\n",
    "        return 0\n",
    "\n",
    "    if is_maximizing:\n",
    "        best_score = -float(\"inf\")\n",
    "        for i in range(3):\n",
    "            for j in range(3):\n",
    "                if board[i][j] == \" \":\n",
    "                    board[i][j] = \"O\"\n",
    "                    score = minimax(board, depth + 1, False)\n",
    "                    board[i][j] = \" \"\n",
    "                    best_score = max(score, best_score)\n",
    "        return best_score\n",
    "    else:\n",
    "        best_score = float(\"inf\")\n",
    "        for i in range(3):\n",
    "            for j in range(3):\n",
    "                if board[i][j] == \" \":\n",
    "                    board[i][j] = \"X\"\n",
    "                    score = minimax(board, depth + 1, True)\n",
    "                    board[i][j] = \" \"\n",
    "                    best_score = min(score, best_score)\n",
    "        return best_score\n",
    "\n",
    "def ai_move(board):\n",
    "    best_score = -float(\"inf\")\n",
    "    move = (-1, -1)\n",
    "    for i in range(3):\n",
    "        for j in range(3):\n",
    "            if board[i][j] == \" \":\n",
    "                board[i][j] = \"O\"\n",
    "                score = minimax(board, 0, False)\n",
    "                board[i][j] = \" \"\n",
    "                if score > best_score:\n",
    "                    best_score = score\n",
    "                    move = (i, j)\n",
    "    return move\n",
    "\n",
    "def play_game():\n",
    "    board = [[\" \" for _ in range(3)] for _ in range(3)]\n",
    "    current_player = \"X\"  # Human starts first\n",
    "    while True:\n",
    "        print_board(board)\n",
    "        if current_player == \"X\":\n",
    "            row, col = map(int, input(\"Enter row and column (0-2): \").split())\n",
    "        else:\n",
    "            row, col = ai_move(board)\n",
    "            print(f\"AI plays at ({row}, {col})\")\n",
    "        if board[row][col] == \" \":\n",
    "            board[row][col] = current_player\n",
    "            winner = check_winner(board)\n",
    "            if winner:\n",
    "                print_board(board)\n",
    "                print(f\"{winner} wins!\")\n",
    "                break\n",
    "            elif \" \" not in [cell for row in board for cell in row]:\n",
    "                print_board(board)\n",
    "                print(\"Draw!\")\n",
    "                break\n",
    "            current_player = \"O\" if current_player == \"X\" else \"X\"\n",
    "        else:\n",
    "            print(\"Invalid move!\")\n",
    "\n",
    "play_game()"
   ]
  },
  {
   "cell_type": "code",
   "execution_count": null,
   "id": "b2595f60-d827-43ae-9e9d-70edf2aea734",
   "metadata": {},
   "outputs": [],
   "source": []
  }
 ],
 "metadata": {
  "kernelspec": {
   "display_name": "Python 3 (ipykernel)",
   "language": "python",
   "name": "python3"
  },
  "language_info": {
   "codemirror_mode": {
    "name": "ipython",
    "version": 3
   },
   "file_extension": ".py",
   "mimetype": "text/x-python",
   "name": "python",
   "nbconvert_exporter": "python",
   "pygments_lexer": "ipython3",
   "version": "3.13.3"
  }
 },
 "nbformat": 4,
 "nbformat_minor": 5
}
