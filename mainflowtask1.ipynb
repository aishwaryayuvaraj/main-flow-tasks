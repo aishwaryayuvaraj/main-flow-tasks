{
 "cells": [
  {
   "cell_type": "code",
   "execution_count": 3,
   "id": "0b7a8654-46ab-4758-8e59-fb4b72357dfb",
   "metadata": {},
   "outputs": [
    {
     "name": "stdout",
     "output_type": "stream",
     "text": [
      "The Sum of 15 and 25 is 40.\n"
     ]
    }
   ],
   "source": [
    "# Task1:Sum of Two Numbers\n",
    "def sum_of_two_numbers(a, b):\n",
    "    return a + b\n",
    "\n",
    "# Example\n",
    "a, b =15, 25\n",
    "print(f\"The Sum of {a} and {b} is {sum_of_two_numbers(a, b)}.\")"
   ]
  },
  {
   "cell_type": "code",
   "execution_count": 5,
   "id": "0a180567-854c-44dc-8c10-687b02584f5f",
   "metadata": {},
   "outputs": [
    {
     "name": "stdout",
     "output_type": "stream",
     "text": [
      "The number 7 is odd.\n",
      "The number 8 is even.\n"
     ]
    }
   ],
   "source": [
    "# Task2:odd or even\n",
    "def odd_or_even(number):\n",
    "    return \"even\" if number % 2==0 else \"odd\"\n",
    "#example\n",
    "num = 7\n",
    "print(f\"The number {num} is {odd_or_even(num)}.\")\n",
    "num = 8\n",
    "print(f\"The number {num} is {odd_or_even(num)}.\")"
   ]
  },
  {
   "cell_type": "code",
   "execution_count": 6,
   "id": "386d1e44-06e0-4bf2-b344-1192f4bdaa1d",
   "metadata": {},
   "outputs": [
    {
     "name": "stdout",
     "output_type": "stream",
     "text": [
      "The factorial of 6 is 720.\n"
     ]
    }
   ],
   "source": [
    "# Task 3:Factorial calculation\n",
    "def factorial(n):\n",
    "    result=1\n",
    "    for i in range (1, n+1):\n",
    "        result *=i\n",
    "    return result\n",
    "#Example\n",
    "n = 6\n",
    "print(f\"The factorial of {n} is {factorial(n)}.\")\n",
    "        "
   ]
  },
  {
   "cell_type": "code",
   "execution_count": 7,
   "id": "b9152078-3c69-4dc2-99c6-c78e03a3fa4b",
   "metadata": {},
   "outputs": [
    {
     "name": "stdout",
     "output_type": "stream",
     "text": [
      "The first 10 Fibonacci numbers are: [0, 1, 1, 2, 3, 5, 8, 13, 21, 34].\n"
     ]
    }
   ],
   "source": [
    "# Task 4: Fibonacci Sequence \n",
    "def fibonacci_sequence(n):\n",
    "    sequence = [0, 1]\n",
    "    for i in range(2, n):\n",
    "        sequence.append(sequence[-1] + sequence[-2])\n",
    "    return sequence[:n]\n",
    "# Example\n",
    "n = 10\n",
    "print(f\"The first {n} Fibonacci numbers are: {fibonacci_sequence(n)}.\")"
   ]
  },
  {
   "cell_type": "code",
   "execution_count": 8,
   "id": "ff19790e-74ad-4d20-abb9-232b5e22fb23",
   "metadata": {},
   "outputs": [
    {
     "name": "stdout",
     "output_type": "stream",
     "text": [
      "The reverse of 'python' is 'nohtyp'.\n"
     ]
    }
   ],
   "source": [
    "# Task 5: Reverse a string\n",
    "def reverse_string(s):\n",
    "    return s[::-1]\n",
    "#Example \n",
    "string =\"python\"\n",
    "print(f\"The reverse of '{string}' is '{reverse_string(string)}'.\")"
   ]
  },
  {
   "cell_type": "code",
   "execution_count": 9,
   "id": "9dd9114d-6a8b-4b3b-a299-a52b39045f81",
   "metadata": {},
   "outputs": [
    {
     "name": "stdout",
     "output_type": "stream",
     "text": [
      "Is 'malayalam' a palindrome? True.\n",
      "Is 'hello' a palindrome? False.\n"
     ]
    }
   ],
   "source": [
    "# Task 6:Palindrome Check\n",
    "def is_palindrome(s):\n",
    "    return s == s[::-1]\n",
    "#Example\n",
    "string = \"malayalam\"\n",
    "print(f\"Is '{string}' a palindrome? {is_palindrome(string)}.\")\n",
    "string = \"hello\"\n",
    "print(f\"Is '{string}' a palindrome? {is_palindrome(string)}.\")"
   ]
  },
  {
   "cell_type": "code",
   "execution_count": 10,
   "id": "c9590480-d438-4801-8d4a-9b7012d3fc2d",
   "metadata": {},
   "outputs": [
    {
     "name": "stdout",
     "output_type": "stream",
     "text": [
      "Is 2024 a leap year? True.\n",
      "Is 2022 a leap year? False.\n"
     ]
    }
   ],
   "source": [
    "#task 7:Leap year check\n",
    "def is_leap_year(year):\n",
    "    return year % 4 == 0 and (year % 100 != 0 or year % 400 == 0)\n",
    "#Example\n",
    "year=2024\n",
    "print(f\"Is {year} a leap year? {is_leap_year(year)}.\")\n",
    "year=2022\n",
    "print(f\"Is {year} a leap year? {is_leap_year(year)}.\")"
   ]
  },
  {
   "cell_type": "code",
   "execution_count": 1,
   "id": "ec9297e9-82cf-48d4-acaf-c9f21a0199df",
   "metadata": {},
   "outputs": [
    {
     "name": "stdout",
     "output_type": "stream",
     "text": [
      "Is 153 an Armstrong number? True.\n",
      "Is 12 an Armstrong number? False.\n"
     ]
    }
   ],
   "source": [
    "# Task 8: Armstrong Number\n",
    "def is_armstrong_number(n):\n",
    "    digits = str(n)\n",
    "    return n == sum(int(d) ** len(digits) for d in digits)\n",
    "#example\n",
    "num = 153\n",
    "print(f\"Is {num} an Armstrong number? {is_armstrong_number(num)}.\")\n",
    "num = 12\n",
    "print(f\"Is {num} an Armstrong number? {is_armstrong_number(num)}.\")"
   ]
  },
  {
   "cell_type": "code",
   "execution_count": 2,
   "id": "931218df-9895-407f-8d90-1596b03b0144",
   "metadata": {},
   "outputs": [
    {
     "name": "stdout",
     "output_type": "stream",
     "text": [
      "Original: picture perfect\n",
      "Encrypted: tmgxyvi tivjigx\n",
      "Decrypted: picture perfect\n"
     ]
    }
   ],
   "source": [
    "# Task 10: Custom Encryption and Decryption System\n",
    "def encrypt(text, shift):\n",
    "    encrypted_text = \"\"\n",
    "    for char in text:\n",
    "        if char.isalpha():\n",
    "            shift_base = 65 if char.isupper() else 97\n",
    "            encrypted_text += chr((ord(char) - shift_base + shift) % 26 + shift_base)\n",
    "        else:\n",
    "            encrypted_text += char\n",
    "    return encrypted_text\n",
    "\n",
    "def decrypt(encrypted_text, shift):\n",
    "    return encrypt(encrypted_text, -shift)\n",
    "\n",
    "# Example\n",
    "message = \"picture perfect\"\n",
    "shift_key = 4\n",
    "\n",
    "encrypted_message = encrypt(message, shift_key)\n",
    "decrypted_message = decrypt(encrypted_message, shift_key)\n",
    "\n",
    "print(f\"Original: {message}\")\n",
    "print(f\"Encrypted: {encrypted_message}\")\n",
    "print(f\"Decrypted: {decrypted_message}\")"
   ]
  },
  {
   "cell_type": "code",
   "execution_count": null,
   "id": "1622eb12-e955-4077-9c10-d51741990ae4",
   "metadata": {},
   "outputs": [],
   "source": []
  }
 ],
 "metadata": {
  "kernelspec": {
   "display_name": "Python 3 (ipykernel)",
   "language": "python",
   "name": "python3"
  },
  "language_info": {
   "codemirror_mode": {
    "name": "ipython",
    "version": 3
   },
   "file_extension": ".py",
   "mimetype": "text/x-python",
   "name": "python",
   "nbconvert_exporter": "python",
   "pygments_lexer": "ipython3",
   "version": "3.13.3"
  }
 },
 "nbformat": 4,
 "nbformat_minor": 5
}
