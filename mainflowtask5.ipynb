{
 "cells": [
  {
   "cell_type": "code",
   "execution_count": 1,
   "id": "e1d76724-0319-4a0e-88f3-5e50613c2517",
   "metadata": {
    "collapsed": true,
    "jupyter": {
     "outputs_hidden": true
    }
   },
   "outputs": [
    {
     "name": "stdout",
     "output_type": "stream",
     "text": [
      "All permutations of 'hey':\n",
      "hey\n",
      "hye\n",
      "ehy\n",
      "eyh\n",
      "yhe\n",
      "yeh\n"
     ]
    }
   ],
   "source": [
    "from itertools import permutations\n",
    "\n",
    "def get_permutations_itertools(input_str):\n",
    "    perms = [''.join(p) for p in permutations(input_str)]\n",
    "    return perms\n",
    "\n",
    "input_string = \"hey\"\n",
    "print(f\"All permutations of '{input_string}':\")\n",
    "for perm in get_permutations_itertools(input_string):\n",
    "    print(perm) "
   ]
  },
  {
   "cell_type": "code",
   "execution_count": 2,
   "id": "3106bd8d-b866-4755-a1db-3ac11e194f59",
   "metadata": {},
   "outputs": [
    {
     "name": "stdout",
     "output_type": "stream",
     "text": [
      "The 10-th Fibonacci number is: 55\n"
     ]
    }
   ],
   "source": [
    "def fibonacci(n):\n",
    "    if n <= 1:\n",
    "        return n\n",
    "    \n",
    "    a, b = 0, 1\n",
    "    \n",
    "    for _ in range(2, n + 1):\n",
    "        c = a + b\n",
    "        a, b = b, c\n",
    "    return b\n",
    "\n",
    "n = 10\n",
    "print(f\"The {n}-th Fibonacci number is: {fibonacci(n)}\")"
   ]
  },
  {
   "cell_type": "code",
   "execution_count": 3,
   "id": "fc8b88fb-1b6a-4acb-a3d8-9e3722ff2c19",
   "metadata": {},
   "outputs": [
    {
     "name": "stdout",
     "output_type": "stream",
     "text": [
      "[3, 4]\n"
     ]
    }
   ],
   "source": [
    "from collections import Counter\n",
    "\n",
    "def find_duplicates(lst):\n",
    "    counter = Counter(lst)\n",
    "    return [item for item, count in counter.items() if count > 1]\n",
    "\n",
    "print(find_duplicates([8, 3, 7, 3, 4, 4, 5]))"
   ]
  },
  {
   "cell_type": "code",
   "execution_count": 4,
   "id": "a5f8c2d3-ad0a-438a-bf0e-8ac3ea2eb621",
   "metadata": {},
   "outputs": [
    {
     "name": "stdout",
     "output_type": "stream",
     "text": [
      "4\n"
     ]
    }
   ],
   "source": [
    "def length_of_lis(nums):\n",
    "    if not nums:\n",
    "        return 0\n",
    "    dp = [1] * len(nums)\n",
    "    for i in range(len(nums)):\n",
    "        for j in range(i):\n",
    "            if nums[i] > nums[j]:\n",
    "                dp[i] = max(dp[i], dp[j] + 1)\n",
    "    return max(dp)\n",
    "\n",
    "print(length_of_lis([10, 9, 2, 5, 3, 7, 101, 18]))"
   ]
  },
  {
   "cell_type": "code",
   "execution_count": 5,
   "id": "7613f5f1-4b3d-4d0f-8294-c82a5ec653a1",
   "metadata": {},
   "outputs": [
    {
     "name": "stdout",
     "output_type": "stream",
     "text": [
      "[8, 6, 4]\n"
     ]
    }
   ],
   "source": [
    "import heapq\n",
    "\n",
    "def k_largest_elements(lst, k):\n",
    "    return heapq.nlargest(k, lst)\n",
    "\n",
    "print(k_largest_elements([4, 1, 6, 3, 8, 2], 3))"
   ]
  },
  {
   "cell_type": "code",
   "execution_count": 6,
   "id": "ae5b3400-c5a0-47cf-bb1a-7cfeebd25d15",
   "metadata": {},
   "outputs": [
    {
     "name": "stdout",
     "output_type": "stream",
     "text": [
      "[7, 4, 1]\n",
      "[8, 5, 2]\n",
      "[9, 6, 3]\n"
     ]
    }
   ],
   "source": [
    "def rotate_matrix(matrix):\n",
    "    n = len(matrix)\n",
    "    # Transpose\n",
    "    for i in range(n):\n",
    "        for j in range(i, n):\n",
    "            matrix[i][j], matrix[j][i] = matrix[j][i], matrix[i][j]\n",
    "    # Reverse each row\n",
    "    for row in matrix:\n",
    "        row.reverse()\n",
    "    return matrix\n",
    "\n",
    "mat = [\n",
    "    [1, 2, 3],\n",
    "    [4, 5, 6],\n",
    "    [7, 8, 9]\n",
    "]\n",
    "rotated = rotate_matrix(mat)\n",
    "for row in rotated:\n",
    "    print(row) "
   ]
  },
  {
   "cell_type": "code",
   "execution_count": 7,
   "id": "ea4d0a6d-97d8-4935-9534-37423e8f0d4a",
   "metadata": {},
   "outputs": [
    {
     "name": "stdout",
     "output_type": "stream",
     "text": [
      "True\n"
     ]
    }
   ],
   "source": [
    "def is_valid_sudoku(board):\n",
    "    def is_valid_block(block):\n",
    "        nums = [x for x in block if x != \".\"]\n",
    "        return len(nums) == len(set(nums))\n",
    "\n",
    "    for row in board:\n",
    "        if not is_valid_block(row):\n",
    "            return False\n",
    "\n",
    "    for col in zip(*board):\n",
    "        if not is_valid_block(col):\n",
    "            return False\n",
    "\n",
    "    for i in range(0, 9, 3):\n",
    "        for j in range(0, 9, 3):\n",
    "            block = [board[x][y] for x in range(i, i+3) for y in range(j, j+3)]\n",
    "            if not is_valid_block(block):\n",
    "                return False\n",
    "\n",
    "    return True\n",
    "\n",
    "sudoku_board = [\n",
    "    [\"5\", \"3\", \".\", \".\", \"7\", \".\", \".\", \".\", \".\"],\n",
    "    [\"6\", \".\", \".\", \"1\", \"9\", \"5\", \".\", \".\", \".\"],\n",
    "    [\".\", \"9\", \"8\", \".\", \".\", \".\", \".\", \"6\", \".\"],\n",
    "    [\"8\", \".\", \".\", \".\", \"6\", \".\", \".\", \".\", \"3\"],\n",
    "    [\"4\", \".\", \".\", \"8\", \".\", \"3\", \".\", \".\", \"1\"],\n",
    "    [\"7\", \".\", \".\", \".\", \"2\", \".\", \".\", \".\", \"6\"],\n",
    "    [\".\", \"6\", \".\", \".\", \".\", \".\", \"2\", \"8\", \".\"],\n",
    "    [\".\", \".\", \".\", \"4\", \"1\", \"9\", \".\", \".\", \"5\"],\n",
    "    [\".\", \".\", \".\", \".\", \"8\", \".\", \".\", \"7\", \"9\"]\n",
    "]\n",
    "print(is_valid_sudoku(sudoku_board)) "
   ]
  },
  {
   "cell_type": "code",
   "execution_count": 9,
   "id": "2a7dde97-f934-46e9-87c1-ff2d96936b4b",
   "metadata": {},
   "outputs": [
    {
     "name": "stdout",
     "output_type": "stream",
     "text": [
      "\n",
      "📈 Virtual Stock Market Simulator 📉\n",
      "1. View Stock Prices\n",
      "2. Buy Stock\n",
      "3. Sell Stock\n",
      "4. View Portfolio\n",
      "5. View Transaction History\n",
      "6. Exit\n"
     ]
    },
    {
     "name": "stdin",
     "output_type": "stream",
     "text": [
      "Enter your choice:  1\n"
     ]
    },
    {
     "name": "stdout",
     "output_type": "stream",
     "text": [
      "\n",
      "📦 Available Stocks:\n",
      "1. TCS - ₹3084.2\n",
      "2. INFY - ₹1395.77\n",
      "3. HDFC - ₹2750.59\n",
      "4. RELIANCE - ₹2539.87\n",
      "\n",
      "📈 Virtual Stock Market Simulator 📉\n",
      "1. View Stock Prices\n",
      "2. Buy Stock\n",
      "3. Sell Stock\n",
      "4. View Portfolio\n",
      "5. View Transaction History\n",
      "6. Exit\n"
     ]
    },
    {
     "name": "stdin",
     "output_type": "stream",
     "text": [
      "Enter your choice:  4\n"
     ]
    },
    {
     "name": "stdout",
     "output_type": "stream",
     "text": [
      "\n",
      "📊 DemoUser's Portfolio:\n",
      "💰 Balance: ₹10000.00\n",
      "\n",
      "\n",
      "📈 Virtual Stock Market Simulator 📉\n",
      "1. View Stock Prices\n",
      "2. Buy Stock\n",
      "3. Sell Stock\n",
      "4. View Portfolio\n",
      "5. View Transaction History\n",
      "6. Exit\n"
     ]
    },
    {
     "name": "stdin",
     "output_type": "stream",
     "text": [
      "Enter your choice:  2\n"
     ]
    },
    {
     "name": "stdout",
     "output_type": "stream",
     "text": [
      "1. TCS - ₹3176.26\n",
      "2. INFY - ₹1398.09\n",
      "3. HDFC - ₹2580.01\n",
      "4. RELIANCE - ₹2545.38\n"
     ]
    },
    {
     "name": "stdin",
     "output_type": "stream",
     "text": [
      "Enter stock number to buy:  2\n",
      "Enter quantity:  2\n"
     ]
    },
    {
     "name": "stdout",
     "output_type": "stream",
     "text": [
      "✅ Purchase successful!\n",
      "\n",
      "📈 Virtual Stock Market Simulator 📉\n",
      "1. View Stock Prices\n",
      "2. Buy Stock\n",
      "3. Sell Stock\n",
      "4. View Portfolio\n",
      "5. View Transaction History\n",
      "6. Exit\n"
     ]
    },
    {
     "name": "stdin",
     "output_type": "stream",
     "text": [
      "Enter your choice:  3\n"
     ]
    },
    {
     "name": "stdout",
     "output_type": "stream",
     "text": [
      "1. TCS - ₹3174.88\n",
      "2. INFY - ₹1339.11\n",
      "3. HDFC - ₹2526.24\n",
      "4. RELIANCE - ₹2639.64\n"
     ]
    },
    {
     "name": "stdin",
     "output_type": "stream",
     "text": [
      "Enter stock number to sell:  2\n",
      "Enter quantity:  2\n"
     ]
    },
    {
     "name": "stdout",
     "output_type": "stream",
     "text": [
      "✅ Sale successful!\n",
      "\n",
      "📈 Virtual Stock Market Simulator 📉\n",
      "1. View Stock Prices\n",
      "2. Buy Stock\n",
      "3. Sell Stock\n",
      "4. View Portfolio\n",
      "5. View Transaction History\n",
      "6. Exit\n"
     ]
    },
    {
     "name": "stdin",
     "output_type": "stream",
     "text": [
      "Enter your choice:  5\n"
     ]
    },
    {
     "name": "stdout",
     "output_type": "stream",
     "text": [
      "\n",
      "📜 Transaction History:\n",
      " - Bought 2 shares of INFY at ₹1398.09\n",
      " - Sold 2 shares of INFY at ₹1339.11\n",
      "\n",
      "\n",
      "📈 Virtual Stock Market Simulator 📉\n",
      "1. View Stock Prices\n",
      "2. Buy Stock\n",
      "3. Sell Stock\n",
      "4. View Portfolio\n",
      "5. View Transaction History\n",
      "6. Exit\n"
     ]
    },
    {
     "name": "stdin",
     "output_type": "stream",
     "text": [
      "Enter your choice:  6\n"
     ]
    },
    {
     "name": "stdout",
     "output_type": "stream",
     "text": [
      "👋 Exiting the simulator.\n"
     ]
    }
   ],
   "source": [
    "import random\n",
    "\n",
    "class Stock:\n",
    "    def __init__(self, name, price):\n",
    "        self.name = name\n",
    "        self.price = price\n",
    "\n",
    "    def simulate_price_change(self):\n",
    "        change_percent = random.uniform(-0.05, 0.05)  # +/-5% fluctuation\n",
    "        self.price += self.price * change_percent\n",
    "        self.price = round(self.price, 2)\n",
    "\n",
    "class User:\n",
    "    def __init__(self, name, balance=10000):\n",
    "        self.name = name\n",
    "        self.balance = balance\n",
    "        self.portfolio = {}\n",
    "        self.transaction_history = []\n",
    "\n",
    "    def buy_stock(self, stock, quantity):\n",
    "        cost = stock.price * quantity\n",
    "        if self.balance >= cost:\n",
    "            self.balance -= cost\n",
    "            self.portfolio[stock.name] = self.portfolio.get(stock.name, 0) + quantity\n",
    "            self.transaction_history.append(f\"Bought {quantity} shares of {stock.name} at ₹{stock.price}\")\n",
    "            print(\"✅ Purchase successful!\")\n",
    "        else:\n",
    "            print(\"❌ Not enough balance!\")\n",
    "\n",
    "    def sell_stock(self, stock, quantity):\n",
    "        if self.portfolio.get(stock.name, 0) >= quantity:\n",
    "            self.portfolio[stock.name] -= quantity\n",
    "            self.balance += stock.price * quantity\n",
    "            self.transaction_history.append(f\"Sold {quantity} shares of {stock.name} at ₹{stock.price}\")\n",
    "            print(\"✅ Sale successful!\")\n",
    "        else:\n",
    "            print(\"❌ Not enough shares to sell!\")\n",
    "\n",
    "    def view_portfolio(self):\n",
    "        print(f\"\\n📊 {self.name}'s Portfolio:\")\n",
    "        for stock, qty in self.portfolio.items():\n",
    "            if qty > 0:\n",
    "                print(f\" - {stock}: {qty} shares\")\n",
    "        print(f\"💰 Balance: ₹{self.balance:.2f}\\n\")\n",
    "\n",
    "    def view_transaction_history(self):\n",
    "        print(\"\\n📜 Transaction History:\")\n",
    "        for t in self.transaction_history:\n",
    "            print(\" -\", t)\n",
    "        print()\n",
    "\n",
    "# Stock Market Setup\n",
    "stocks = [\n",
    "    Stock(\"TCS\", 3200),\n",
    "    Stock(\"INFY\", 1450),\n",
    "    Stock(\"HDFC\", 2800),\n",
    "    Stock(\"RELIANCE\", 2500),\n",
    "]\n",
    "\n",
    "user = User(name=\"DemoUser\")\n",
    "\n",
    "# Main Menu\n",
    "def main():\n",
    "    while True:\n",
    "        print(\"\\n📈 Virtual Stock Market Simulator 📉\")\n",
    "        print(\"1. View Stock Prices\")\n",
    "        print(\"2. Buy Stock\")\n",
    "        print(\"3. Sell Stock\")\n",
    "        print(\"4. View Portfolio\")\n",
    "        print(\"5. View Transaction History\")\n",
    "        print(\"6. Exit\")\n",
    "\n",
    "        choice = input(\"Enter your choice: \")\n",
    "\n",
    "        # Simulate price changes before each action\n",
    "        for s in stocks:\n",
    "            s.simulate_price_change()\n",
    "\n",
    "        if choice == '1':\n",
    "            print(\"\\n📦 Available Stocks:\")\n",
    "            for i, stock in enumerate(stocks):\n",
    "                print(f\"{i+1}. {stock.name} - ₹{stock.price}\")\n",
    "        elif choice == '2':\n",
    "            for i, stock in enumerate(stocks):\n",
    "                print(f\"{i+1}. {stock.name} - ₹{stock.price}\")\n",
    "            index = int(input(\"Enter stock number to buy: \")) - 1\n",
    "            qty = int(input(\"Enter quantity: \"))\n",
    "            user.buy_stock(stocks[index], qty)\n",
    "        elif choice == '3':\n",
    "            for i, stock in enumerate(stocks):\n",
    "                print(f\"{i+1}. {stock.name} - ₹{stock.price}\")\n",
    "            index = int(input(\"Enter stock number to sell: \")) - 1\n",
    "            qty = int(input(\"Enter quantity: \"))\n",
    "            user.sell_stock(stocks[index], qty)\n",
    "        elif choice == '4':\n",
    "            user.view_portfolio()\n",
    "        elif choice == '5':\n",
    "            user.view_transaction_history()\n",
    "        elif choice == '6':\n",
    "            print(\"👋 Exiting the simulator.\")\n",
    "            break\n",
    "        else:\n",
    "            print(\"❌ Invalid choice, try again.\")\n",
    "\n",
    "# Run the simulator\n",
    "main() "
   ]
  },
  {
   "cell_type": "code",
   "execution_count": null,
   "id": "73dc6837-ba51-4a96-89c6-b336686e2146",
   "metadata": {},
   "outputs": [],
   "source": []
  }
 ],
 "metadata": {
  "kernelspec": {
   "display_name": "Python 3 (ipykernel)",
   "language": "python",
   "name": "python3"
  },
  "language_info": {
   "codemirror_mode": {
    "name": "ipython",
    "version": 3
   },
   "file_extension": ".py",
   "mimetype": "text/x-python",
   "name": "python",
   "nbconvert_exporter": "python",
   "pygments_lexer": "ipython3",
   "version": "3.10.7"
  }
 },
 "nbformat": 4,
 "nbformat_minor": 5
}
